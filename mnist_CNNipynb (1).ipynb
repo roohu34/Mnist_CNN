{
  "nbformat": 4,
  "nbformat_minor": 0,
  "metadata": {
    "colab": {
      "name": "mnist   CNNipynb",
      "provenance": []
    },
    "kernelspec": {
      "name": "python3",
      "display_name": "Python 3"
    },
    "language_info": {
      "name": "python"
    }
  },
  "cells": [
    {
      "cell_type": "code",
      "execution_count": null,
      "metadata": {
        "id": "qPz0LMC0SPBB"
      },
      "outputs": [],
      "source": [
        "from keras.datasets import mnist"
      ]
    },
    {
      "cell_type": "code",
      "source": [
        "import pandas as pd\n",
        "import numpy as np\n",
        "import matplotlib.pyplot as plt\n"
      ],
      "metadata": {
        "id": "j_gpoX2ZSllh"
      },
      "execution_count": null,
      "outputs": []
    },
    {
      "cell_type": "code",
      "source": [
        "(train_X, train_y), (test_X, test_y) = mnist.load_data()\n"
      ],
      "metadata": {
        "id": "eUFVjvHOSQwp"
      },
      "execution_count": null,
      "outputs": []
    },
    {
      "cell_type": "code",
      "source": [
        "import tensorflow \n",
        "from tensorflow import keras\n",
        "from tensorflow.keras.models import Sequential\n",
        "from tensorflow.keras.layers import Conv2D,Dense,MaxPooling2D\n",
        "from tensorflow.keras.layers import Flatten"
      ],
      "metadata": {
        "id": "tyFEYMqxSU2d"
      },
      "execution_count": null,
      "outputs": []
    },
    {
      "cell_type": "code",
      "source": [
        "train_X .shape"
      ],
      "metadata": {
        "colab": {
          "base_uri": "https://localhost:8080/"
        },
        "id": "LaU8NlDVS99E",
        "outputId": "ff06777a-635c-432e-e35c-c505080451ed"
      },
      "execution_count": null,
      "outputs": [
        {
          "output_type": "execute_result",
          "data": {
            "text/plain": [
              "(60000, 28, 28)"
            ]
          },
          "metadata": {},
          "execution_count": 73
        }
      ]
    },
    {
      "cell_type": "code",
      "source": [
        "train_y .shape"
      ],
      "metadata": {
        "colab": {
          "base_uri": "https://localhost:8080/"
        },
        "id": "5tcgCjaGTxhx",
        "outputId": "bce45cc7-b892-498f-9e8e-c0879fdc7f19"
      },
      "execution_count": null,
      "outputs": [
        {
          "output_type": "execute_result",
          "data": {
            "text/plain": [
              "(60000,)"
            ]
          },
          "metadata": {},
          "execution_count": 74
        }
      ]
    },
    {
      "cell_type": "code",
      "source": [
        "import matplotlib.pyplot as plt\n",
        "\n",
        "plt.imshow(train_X[0])"
      ],
      "metadata": {
        "id": "VQ2C224FWmRY",
        "colab": {
          "base_uri": "https://localhost:8080/",
          "height": 282
        },
        "outputId": "92679a5a-28e8-4588-d74d-5967cf1cad89"
      },
      "execution_count": null,
      "outputs": [
        {
          "output_type": "execute_result",
          "data": {
            "text/plain": [
              "<matplotlib.image.AxesImage at 0x7f1c8a0c6510>"
            ]
          },
          "metadata": {},
          "execution_count": 75
        },
        {
          "output_type": "display_data",
          "data": {
            "text/plain": [
              "<Figure size 432x288 with 1 Axes>"
            ],
            "image/png": "[encoded data removed]"
          },
          "metadata": {
            "needs_background": "light"
          }
        }
      ]
    },
    {
      "cell_type": "code",
      "source": [
        "model=Sequential()\n",
        "model.add(Conv2D(32,(3,3),input_shape=(28,28,1),activation=\"relu\"))\n",
        "model.add(MaxPooling2D(2,2))\n",
        "model.add(Flatten())\n",
        "\n",
        "\n",
        "model.add(Dense(32,activation=\"relu\"))\n",
        "\n",
        "model.add(Dense(10,activation=\"softmax\"))\n",
        "\n",
        "model.compile(optimizer=\"adam\",loss=\"sparse_categorical_crossentropy\",metrics=[\"accuracy\"])\n",
        "model.summary()"
      ],
      "metadata": {
        "colab": {
          "base_uri": "https://localhost:8080/"
        },
        "id": "kNkbzk9cvcSo",
        "outputId": "dc05efdb-161d-4a5c-c465-12d86cd200fb"
      },
      "execution_count": null,
      "outputs": [
        {
          "output_type": "stream",
          "name": "stdout",
          "text": [
            "Model: \"sequential_2\"\n",
            "_________________________________________________________________\n",
            " Layer (type)                Output Shape              Param #   \n",
            "=================================================================\n",
            " conv2d (Conv2D)             (None, 26, 26, 32)        320       \n",
            "                                                                 \n",
            " max_pooling2d (MaxPooling2D  (None, 13, 13, 32)       0         \n",
            " )                                                               \n",
            "                                                                 \n",
            " flatten (Flatten)           (None, 5408)              0         \n",
            "                                                                 \n",
            " dense_6 (Dense)             (None, 32)                173088    \n",
            "                                                                 \n",
            " dense_7 (Dense)             (None, 10)                330       \n",
            "                                                                 \n",
            "=================================================================\n",
            "Total params: 173,738\n",
            "Trainable params: 173,738\n",
            "Non-trainable params: 0\n",
            "_________________________________________________________________\n"
          ]
        }
      ]
    },
    {
      "cell_type": "code",
      "source": [
        "y_train = np.array(train_y).reshape((-1,1))\n",
        "y_test = np.array(test_y).reshape((-1,1))"
      ],
      "metadata": {
        "id": "Xdx9-iXBlMGq"
      },
      "execution_count": null,
      "outputs": []
    },
    {
      "cell_type": "code",
      "source": [
        "X_train = np.array(train_X).reshape((-1,1))\n",
        "X_test = np.array(test_X).reshape((-1,1))"
      ],
      "metadata": {
        "id": "cDTQbMHnmsMT"
      },
      "execution_count": null,
      "outputs": []
    },
    {
      "cell_type": "code",
      "source": [],
      "metadata": {
        "id": "kO_vcvb0nVDE"
      },
      "execution_count": null,
      "outputs": []
    },
    {
      "cell_type": "code",
      "source": [
        "model.fit(train_X , train_y , validation_split=0.1 , epochs=10)"
      ],
      "metadata": {
        "id": "fvVokfrwVnoB",
        "colab": {
          "base_uri": "https://localhost:8080/"
        },
        "outputId": "c6782d71-a7ca-4864-bda2-b834f90e404c"
      },
      "execution_count": null,
      "outputs": [
        {
          "output_type": "stream",
          "name": "stdout",
          "text": [
            "Epoch 1/10\n",
            "1688/1688 [==============================] - 38s 22ms/step - loss: 0.6971 - accuracy: 0.8088 - val_loss: 0.1473 - val_accuracy: 0.9593\n",
            "Epoch 2/10\n",
            "1688/1688 [==============================] - 30s 18ms/step - loss: 0.1365 - accuracy: 0.9611 - val_loss: 0.1259 - val_accuracy: 0.9635\n",
            "Epoch 3/10\n",
            "1688/1688 [==============================] - 30s 18ms/step - loss: 0.0956 - accuracy: 0.9721 - val_loss: 0.0907 - val_accuracy: 0.9758\n",
            "Epoch 4/10\n",
            "1688/1688 [==============================] - 27s 16ms/step - loss: 0.0718 - accuracy: 0.9776 - val_loss: 0.0753 - val_accuracy: 0.9792\n",
            "Epoch 5/10\n",
            "1688/1688 [==============================] - 26s 15ms/step - loss: 0.0571 - accuracy: 0.9829 - val_loss: 0.0738 - val_accuracy: 0.9798\n",
            "Epoch 6/10\n",
            "1688/1688 [==============================] - 27s 16ms/step - loss: 0.0480 - accuracy: 0.9848 - val_loss: 0.0887 - val_accuracy: 0.9772\n",
            "Epoch 7/10\n",
            "1688/1688 [==============================] - 27s 16ms/step - loss: 0.0377 - accuracy: 0.9877 - val_loss: 0.0753 - val_accuracy: 0.9807\n",
            "Epoch 8/10\n",
            "1688/1688 [==============================] - 30s 18ms/step - loss: 0.0321 - accuracy: 0.9899 - val_loss: 0.0939 - val_accuracy: 0.9770\n",
            "Epoch 9/10\n",
            "1688/1688 [==============================] - 30s 18ms/step - loss: 0.0293 - accuracy: 0.9906 - val_loss: 0.1067 - val_accuracy: 0.9773\n",
            "Epoch 10/10\n",
            "1688/1688 [==============================] - 34s 20ms/step - loss: 0.0255 - accuracy: 0.9921 - val_loss: 0.1112 - val_accuracy: 0.9800\n"
          ]
        },
        {
          "output_type": "execute_result",
          "data": {
            "text/plain": [
              "<keras.callbacks.History at 0x7f1c8a08b990>"
            ]
          },
          "metadata": {},
          "execution_count": 86
        }
      ]
    },
    {
      "cell_type": "code",
      "source": [
        "model.predict(test_X)"
      ],
      "metadata": {
        "id": "KUDdpBjog2nS",
        "colab": {
          "base_uri": "https://localhost:8080/"
        },
        "outputId": "20b2497b-cc84-4a64-f190-f33b6929f0fb"
      },
      "execution_count": null,
      "outputs": [
        {
          "output_type": "execute_result",
          "data": {
            "text/plain": [
              "array([[4.7028081e-24, 9.2564952e-17, 8.3915413e-22, ..., 1.0000000e+00,\n",
              "        1.1054087e-24, 4.4819390e-14],\n",
              "       [5.8590386e-09, 2.2323556e-10, 1.0000000e+00, ..., 1.2560690e-08,\n",
              "        1.0980960e-16, 4.0616051e-20],\n",
              "       [1.0357229e-10, 1.0000000e+00, 2.4431426e-20, ..., 6.8645484e-12,\n",
              "        2.3373555e-11, 1.4526739e-14],\n",
              "       ...,\n",
              "       [6.1261102e-17, 1.8639628e-09, 6.6286093e-16, ..., 3.5358049e-12,\n",
              "        4.7723747e-10, 9.2055523e-11],\n",
              "       [4.4371982e-11, 5.0466496e-20, 2.0010767e-16, ..., 5.7505739e-24,\n",
              "        5.4983309e-05, 2.6885081e-13],\n",
              "       [2.2551847e-16, 2.9340917e-28, 1.4886976e-26, ..., 3.4308408e-26,\n",
              "        3.2332386e-16, 1.7365339e-23]], dtype=float32)"
            ]
          },
          "metadata": {},
          "execution_count": 88
        }
      ]
    },
    {
      "cell_type": "code",
      "source": [
        "model.evaluate(train_X,train_y)"
      ],
      "metadata": {
        "colab": {
          "base_uri": "https://localhost:8080/"
        },
        "id": "hw37vbofzTty",
        "outputId": "775c65b8-555a-4e8e-fa6d-0a3f183ca290"
      },
      "execution_count": null,
      "outputs": [
        {
          "output_type": "stream",
          "name": "stdout",
          "text": [
            "1875/1875 [==============================] - 13s 7ms/step - loss: 0.0281 - accuracy: 0.9926\n"
          ]
        },
        {
          "output_type": "execute_result",
          "data": {
            "text/plain": [
              "[0.028102779760956764, 0.9926000237464905]"
            ]
          },
          "metadata": {},
          "execution_count": 89
        }
      ]
    },
    {
      "cell_type": "code",
      "source": [],
      "metadata": {
        "id": "4uMaV9DbzjrA"
      },
      "execution_count": null,
      "outputs": []
    }
  ]
}